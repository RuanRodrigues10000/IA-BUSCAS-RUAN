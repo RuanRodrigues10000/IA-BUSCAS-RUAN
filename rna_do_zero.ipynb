{
  "nbformat": 4,
  "nbformat_minor": 0,
  "metadata": {
    "colab": {
      "provenance": [],
      "authorship_tag": "ABX9TyPf1MdTL8yt9CzKw2UaMxkn",
      "include_colab_link": true
    },
    "kernelspec": {
      "name": "python3",
      "display_name": "Python 3"
    },
    "language_info": {
      "name": "python"
    }
  },
  "cells": [
    {
      "cell_type": "markdown",
      "metadata": {
        "id": "view-in-github",
        "colab_type": "text"
      },
      "source": [
        "<a href=\"https://colab.research.google.com/github/RuanRodrigues10000/ML_RUAN/blob/master/rna_do_zero.ipynb\" target=\"_parent\"><img src=\"https://colab.research.google.com/assets/colab-badge.svg\" alt=\"Open In Colab\"/></a>"
      ]
    },
    {
      "cell_type": "code",
      "execution_count": null,
      "metadata": {
        "id": "w-LNoKXj_MN-",
        "colab": {
          "base_uri": "https://localhost:8080/"
        },
        "outputId": "ceff11c1-1b6a-4692-a4f3-9676f0eb1355"
      },
      "outputs": [
        {
          "output_type": "stream",
          "name": "stdout",
          "text": [
            "Acurácia: 0.9806678383128296\n"
          ]
        }
      ],
      "source": [
        "from sklearn.datasets import load_breast_cancer\n",
        "import numpy as np\n",
        "\n",
        "# Carregar conjunto de dados\n",
        "data = load_breast_cancer()\n",
        "X, y = data.data, data.target\n",
        "\n",
        "# Normalização dos dados\n",
        "X = (X - X.mean(axis=0)) / X.std(axis=0)\n",
        "\n",
        "# Função de ativação (sigmóide)\n",
        "def sigmoid(x):\n",
        "    return 1 / (1 + np.exp(-x))\n",
        "\n",
        "# Derivada da função de ativação sigmóide\n",
        "def sigmoid_derivative(x):\n",
        "    return x * (1 - x)\n",
        "\n",
        "# Inicialização dos pesos e bias\n",
        "np.random.seed(0)\n",
        "input_size = X.shape[1]\n",
        "hidden_size = 10\n",
        "output_size = 1\n",
        "weights_input_hidden = np.random.uniform(size=(input_size, hidden_size))\n",
        "weights_hidden_output = np.random.uniform(size=(hidden_size, output_size))\n",
        "bias_hidden = np.zeros(hidden_size)\n",
        "bias_output = np.zeros(output_size)\n",
        "\n",
        "# Taxa de aprendizado\n",
        "learning_rate = 0.01\n",
        "epochs = 1000\n",
        "\n",
        "# Treinamento da rede neural\n",
        "for epoch in range(epochs):\n",
        "    # Forward pass\n",
        "    hidden_input = np.dot(X, weights_input_hidden) + bias_hidden\n",
        "    hidden_output = sigmoid(hidden_input)\n",
        "    output = sigmoid(np.dot(hidden_output, weights_hidden_output) + bias_output)\n",
        "\n",
        "    # Backpropagation\n",
        "    output_error = y.reshape(-1, 1) - output\n",
        "    output_delta = output_error * sigmoid_derivative(output)\n",
        "\n",
        "    hidden_error = np.dot(output_delta, weights_hidden_output.T)\n",
        "    hidden_delta = hidden_error * sigmoid_derivative(hidden_output)\n",
        "\n",
        "    # Atualização dos pesos e bias\n",
        "    weights_hidden_output += np.dot(hidden_output.T, output_delta) * learning_rate\n",
        "    bias_output += np.sum(output_delta, axis=0) * learning_rate\n",
        "    weights_input_hidden += np.dot(X.T, hidden_delta) * learning_rate\n",
        "    bias_hidden += np.sum(hidden_delta, axis=0) * learning_rate\n",
        "\n",
        "# Avaliação do modelo\n",
        "def predict(X):\n",
        "    hidden_input = np.dot(X, weights_input_hidden) + bias_hidden\n",
        "    hidden_output = sigmoid(hidden_input)\n",
        "    output = sigmoid(np.dot(hidden_output, weights_hidden_output) + bias_output)\n",
        "    return output\n",
        "\n",
        "# Previsões\n",
        "predictions = predict(X)\n",
        "predicted_classes = (predictions > 0.5).astype(int)\n",
        "accuracy = np.mean(predicted_classes == y.reshape(-1, 1))\n",
        "\n",
        "print(\"Acurácia:\", accuracy)\n"
      ]
    }
  ]
}